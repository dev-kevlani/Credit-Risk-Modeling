{
 "cells": [
  {
   "cell_type": "code",
   "execution_count": null,
   "metadata": {},
   "outputs": [],
   "source": [
    "import pandas as pd\n",
    "import numpy as np\n",
    "import time\n",
    "from datetime import datetime as dt\n",
    "import matplotlib.pyplot as plt\n",
    "import math\n",
    "import seaborn as sns\n",
    "sns.set()\n",
    "\n",
    "pd.set_option('display.max_columns', None)\n"
   ]
  },
  {
   "cell_type": "code",
   "execution_count": null,
   "metadata": {},
   "outputs": [],
   "source": [
    "df_backup = pd.read_csv(\"/Users/admin/Downloads/LGD/PD_LGD_EAD_model/loan_data_2007_2014.csv\")"
   ]
  },
  {
   "cell_type": "code",
   "execution_count": null,
   "metadata": {},
   "outputs": [],
   "source": [
    "df = df_backup.copy()"
   ]
  },
  {
   "cell_type": "code",
   "execution_count": null,
   "metadata": {},
   "outputs": [],
   "source": [
    "df.head()"
   ]
  },
  {
   "cell_type": "markdown",
   "metadata": {},
   "source": [
    "GENERAL PREPROCESSING"
   ]
  },
  {
   "cell_type": "markdown",
   "metadata": {},
   "source": [
    "Preprocessing few continuous variables"
   ]
  },
  {
   "cell_type": "markdown",
   "metadata": {},
   "source": [
    "We have to get rid of these unique characters and label them as integers"
   ]
  },
  {
   "cell_type": "code",
   "execution_count": null,
   "metadata": {},
   "outputs": [],
   "source": [
    "df['emp_length_int'] = df['emp_length'].str.replace('+ years', '')\n",
    "df['emp_length_int'] = df['emp_length_int'].str.replace('< ', '')\n",
    "df['emp_length_int'] = df['emp_length_int'].str.replace(' years', '')\n",
    "df['emp_length_int'] = df['emp_length_int'].str.replace(' year', '')\n",
    "df['emp_length_int'] = pd.to_numeric(df['emp_length_int'])\n",
    "df['term_int'] = df['term'].str.replace(' months', '')\n",
    "df['term_int'] = df['term_int'].str.replace(' ', '')\n",
    "df['term_int'] = pd.to_numeric(df['term_int'])\n",
    "df['term'] = df['term_int']\n",
    "df['emp_length'] = df['emp_length_int']\n",
    "df.drop(columns=['term_int', 'emp_length_int'])"
   ]
  },
  {
   "cell_type": "code",
   "execution_count": null,
   "metadata": {},
   "outputs": [],
   "source": [
    "curr_date = pd.to_datetime('2017-12-01')\n",
    "df['issue_d'] = pd.to_datetime(df['issue_d'], format='%b-%y')\n",
    "df['issue_d_days'] = curr_date - df['issue_d']\n",
    "df['issue_d_weeks'] = round((curr_date - df['issue_d'])/np.timedelta64(1, 'W'))\n",
    "df['issue_d_weeks']\n",
    "df['earliest_cr_line'] = pd.to_datetime(df['earliest_cr_line'], format='%b-%y')\n",
    "df['earliest_cr_line_days'] = curr_date - df['earliest_cr_line']\n",
    "df['earliest_cr_line_weeks'] = round((curr_date - df['earliest_cr_line'])/np.timedelta64(1, 'W'))\n",
    "df['earliest_cr_line_weeks']"
   ]
  },
  {
   "cell_type": "code",
   "execution_count": null,
   "metadata": {},
   "outputs": [],
   "source": [
    "# df.loc[:, ['earliest_cr_line', 'earliest_cr_line_weeks', 'earliest_cr_line_days']][df['earliest_cr_line_days'] < 0]\n",
    "df['earliest_cr_line_weeks'].describe()"
   ]
  },
  {
   "cell_type": "code",
   "execution_count": null,
   "metadata": {},
   "outputs": [],
   "source": [
    "df['earliest_cr_line_weeks'][df['earliest_cr_line_weeks'] < 0] = df['earliest_cr_line_weeks'].fillna(df['earliest_cr_line_weeks'].max(), inplace=True)"
   ]
  },
  {
   "cell_type": "code",
   "execution_count": null,
   "metadata": {},
   "outputs": [],
   "source": [
    "df['issue_d'].describe()"
   ]
  },
  {
   "cell_type": "markdown",
   "metadata": {},
   "source": [
    "Preprocessing Few Discrete Variables"
   ]
  },
  {
   "cell_type": "code",
   "execution_count": null,
   "metadata": {},
   "outputs": [],
   "source": [
    "def create_dummy_vars(df, cols):\n",
    "    df_dummies = pd.DataFrame()\n",
    "    for col in cols:\n",
    "        x = pd.get_dummies(df[col], prefix=col, prefix_sep='_')\n",
    "        df_dummies = pd.concat([df_dummies, x], axis=1)\n",
    "    return df_dummies\n",
    "categorical_cols = ['grade', 'sub_grade', 'home_ownership', 'verification_status', 'loan_status', 'purpose', 'addr_state', 'initial_list_status']\n",
    "df_dummies = create_dummy_vars(df, categorical_cols)\n",
    "df.drop(columns='Unnamed: 0', inplace=True)\n",
    "# df"
   ]
  },
  {
   "cell_type": "code",
   "execution_count": null,
   "metadata": {},
   "outputs": [],
   "source": [
    "df = pd.concat([df, df_dummies], axis=1)"
   ]
  },
  {
   "cell_type": "markdown",
   "metadata": {},
   "source": [
    "Check for missing values and Clean\n"
   ]
  },
  {
   "cell_type": "code",
   "execution_count": null,
   "metadata": {},
   "outputs": [],
   "source": [
    "df['annual_inc'].fillna(df['annual_inc'].mean(), inplace=True)\n",
    "cols = ['earliest_cr_line_weeks', 'acc_now_delinq', 'total_acc', 'pub_rec', 'open_acc', 'inq_last_6mths', 'delinq_2yrs', 'emp_length']\n",
    "df[cols] = df[cols].fillna(0)"
   ]
  },
  {
   "cell_type": "code",
   "execution_count": null,
   "metadata": {},
   "outputs": [],
   "source": [
    "(df['loan_status'].value_counts()/df['loan_status'].count())*100"
   ]
  },
  {
   "cell_type": "code",
   "execution_count": null,
   "metadata": {},
   "outputs": [],
   "source": [
    "df['loan_good_bad'] = np.where((df['loan_status'].isin(['Charged Off', 'Default', 'Does not meet the credit policy. Status:Charged Off'\n",
    "                                                        , 'Late (31-120 days)'])), 0, 1)"
   ]
  },
  {
   "cell_type": "code",
   "execution_count": null,
   "metadata": {},
   "outputs": [],
   "source": [
    "df['loan_good_bad']"
   ]
  },
  {
   "cell_type": "markdown",
   "metadata": {},
   "source": [
    "Splitting the data"
   ]
  },
  {
   "cell_type": "code",
   "execution_count": null,
   "metadata": {},
   "outputs": [],
   "source": [
    "from sklearn.model_selection import train_test_split"
   ]
  },
  {
   "cell_type": "code",
   "execution_count": null,
   "metadata": {},
   "outputs": [],
   "source": [
    "X_train, X_test, y_train, y_test = train_test_split(df.drop(['loan_good_bad'], axis=1), df['loan_good_bad'], random_state=42, test_size=0.2)"
   ]
  },
  {
   "cell_type": "code",
   "execution_count": null,
   "metadata": {},
   "outputs": [],
   "source": [
    "print(X_train.shape)\n",
    "print(X_test.shape)\n",
    "print(y_train.shape)\n",
    "print(y_test.shape)"
   ]
  },
  {
   "cell_type": "markdown",
   "metadata": {},
   "source": [
    "DATA PREPARATION"
   ]
  },
  {
   "cell_type": "code",
   "execution_count": 89,
   "metadata": {},
   "outputs": [],
   "source": [
    "# df_features_train, df_targets_train = X_train, y_train\n",
    "df_features_train, df_targets_train = X_test, y_test\n"
   ]
  },
  {
   "cell_type": "code",
   "execution_count": 90,
   "metadata": {},
   "outputs": [],
   "source": [
    "def check_WoE_IV(df, target, col):\n",
    "    df1 = pd.concat([df[col], target], axis=1)\n",
    "    df1 = pd.concat([df1.groupby(df1.columns.values[0])[df1.columns.values[1]].count().reset_index(),\n",
    "                    df1.groupby(df1.columns.values[0])[df1.columns.values[1]].mean().reset_index()], axis=1)\n",
    "    df1 = df1.iloc[:, [0,1,3]]\n",
    "    df1.columns = [df1.columns.values[0], 'n_obs', 'prop_good']\n",
    "    df1['prop_n_obs'] = df1['n_obs']/df1['n_obs'].sum()\n",
    "    df1['n_good'] = df1['n_obs']*df1['prop_good']\n",
    "    df1['n_bad'] = df1['n_obs']*(1-df1['prop_good'])\n",
    "    df1[f'prop_{col}_good'] = df1['n_good']/df1['n_good'].sum()\n",
    "    df1[f'prop_{col}_bad'] = df1['n_bad']/df1['n_bad'].sum()\n",
    "    df1['WoE'] = np.log(df1[f'prop_{col}_good']/df1[f'prop_{col}_bad'])\n",
    "    df1['IV'] = (df1[f'prop_{col}_good'] - df1[f'prop_{col}_bad'])*df1['WoE']\n",
    "    df1['IV'] = df1['IV'].sum()\n",
    "    df1['WoE_diff'] = df1['WoE'].diff().abs()\n",
    "    print(f\"IV for {col} is \", df1['IV'].iloc[0])\n",
    "    df1.sort_values(by='WoE', inplace=True)\n",
    "    return df1\n",
    "\n",
    "# df_WoE = check_WoE_IV(df_features_train, df_targets_train, 'home_ownership')\n",
    "# print(df_WoE)\n",
    "\n",
    "def plotByWoE(df_WoE, rotate_x=0, figsize=(8,6)):\n",
    "    x = np.array(df_WoE.iloc[:,0].apply(str))\n",
    "    y = df_WoE['WoE']\n",
    "    plt.figure(figsize=figsize)\n",
    "    plt.plot(x, y, marker='o', linestyle='--', color='b')\n",
    "    plt.xlabel(df_WoE.columns.values[0])\n",
    "    plt.ylabel('Weight of Evidence')\n",
    "    plt.title('weight of Evidence of ' + str(df_WoE.columns.values[0]))\n",
    "    plt.xticks(rotation=rotate_x)\n",
    "\n",
    "# plotByWoE(df_WoE, rotate_x=45)"
   ]
  },
  {
   "cell_type": "markdown",
   "metadata": {},
   "source": [
    "We can see that the Other and None variable explain when there is PD but these categories are very less in obs but we dont wanna lose them, so we can combine them together, so we combined these dummies and create one new dummy that is associated max with PD"
   ]
  },
  {
   "cell_type": "code",
   "execution_count": 91,
   "metadata": {},
   "outputs": [],
   "source": [
    "# categorical_cols = ['grade', 'sub_grade', 'home_ownership', 'verification_status', 'purpose', 'addr_state', 'initial_list_status']\n",
    "# other_cols = categorical_cols + \\\n",
    "#     ['earliest_cr_line_weeks_', 'acc_now_delinq_', 'total_acc_', 'pub_rec_', 'open_acc_', 'inq_last_6mths_', 'delinq_2yrs_', 'emp_length_'] + \\\n",
    "#     ['emp_length_', 'term_', 'issue_d_', 'int_rate_', 'annual_inc_', 'mths_since_last_delinq_', 'dti_', 'mths_since_last_record_']\n",
    "\n",
    "# for col in categorical_cols:\n",
    "#     df_woe = check_WoE_IV(df_features_train, df_targets_train, col)\n",
    "#     plotByWoE(df_woe)"
   ]
  },
  {
   "cell_type": "code",
   "execution_count": 92,
   "metadata": {},
   "outputs": [],
   "source": [
    "# df_woe = check_WoE_IV(df_features_train, df_targets_train, 'grade')\n",
    "# df_woe"
   ]
  },
  {
   "cell_type": "code",
   "execution_count": 93,
   "metadata": {},
   "outputs": [],
   "source": [
    "# main_category = df_features_train.filter(like='grade_')\n",
    "# main_category = main_category.loc[:,~main_category.columns.str.contains('sub_grade')]\n",
    "# reference_category = main_category.iloc[:,-1]\n",
    "# main_category = main_category.iloc[:,:-1]\n",
    "# reference_category"
   ]
  },
  {
   "cell_type": "code",
   "execution_count": 94,
   "metadata": {},
   "outputs": [
    {
     "data": {
      "text/plain": [
       "362514    0\n",
       "288564    0\n",
       "213591    0\n",
       "263083    0\n",
       "165001    0\n",
       "         ..\n",
       "115       0\n",
       "296284    1\n",
       "61777     0\n",
       "91763     0\n",
       "167512    1\n",
       "Name: home_ownership:RENT_OTHER_ANY_NONE, Length: 93257, dtype: int64"
      ]
     },
     "execution_count": 94,
     "metadata": {},
     "output_type": "execute_result"
    }
   ],
   "source": [
    "df_features_train['home_ownership:RENT_OTHER_ANY_NONE'] = sum([df_features_train['home_ownership_RENT'],df_features_train['home_ownership_OTHER'],\n",
    "                                                        df_features_train['home_ownership_ANY'], df_features_train['home_ownership_NONE']])\n",
    "df_features_train['home_ownership:RENT_OTHER_ANY_NONE']"
   ]
  },
  {
   "cell_type": "code",
   "execution_count": 95,
   "metadata": {},
   "outputs": [],
   "source": [
    "# main_category = pd.concat([main_category,df_features_train.filter(like='home_ownership')], axis=1)\n",
    "# main_category\n",
    "# main_category = main_category.loc[:,~main_category.columns.str.contains('sub_grade')]\n",
    "# reference_category = main_category.iloc[:,-1]\n",
    "# main_category = main_category.iloc[:,:-1]\n",
    "# reference_category"
   ]
  },
  {
   "cell_type": "code",
   "execution_count": 96,
   "metadata": {},
   "outputs": [],
   "source": [
    "# df_WoE = check_WoE_IV(df_features_train, df_targets_train, 'addr_state')\n",
    "# len(df_WoE)\n",
    "if 'addr_state_ND' in df_features_train.columns:\n",
    "    pass\n",
    "else:\n",
    "    df_features_train['addr_state_ND'] = 0\n",
    "# plotByWoE(df_WoE.iloc[6:-6,:], rotate_x=45)\n",
    "# df_WoE\n"
   ]
  },
  {
   "cell_type": "markdown",
   "metadata": {},
   "source": [
    "We can see the first two rows and last two rows have very less n_obs, so we combine them and also combine the the next two worst categories because there isn't a lot of difference and call this category as worst"
   ]
  },
  {
   "cell_type": "code",
   "execution_count": 97,
   "metadata": {},
   "outputs": [],
   "source": [
    "df_features_train['addr_state_worst'] = sum([df_features_train['addr_state_ND'], df_features_train['addr_state_NV'], df_features_train['addr_state_IA'],\n",
    "                                             df_features_train['addr_state_NE'], df_features_train['addr_state_FL'], df_features_train['addr_state_HI'],\n",
    "                                             df_features_train['addr_state_AL']])\n",
    "df_features_train['addr_state_best'] = sum([df_features_train['addr_state_DC'], df_features_train['addr_state_ME'], df_features_train['addr_state_ID'],\n",
    "                                             df_features_train['addr_state_WY'], df_features_train['addr_state_NH'], df_features_train['addr_state_WV']])"
   ]
  },
  {
   "cell_type": "markdown",
   "metadata": {},
   "source": [
    "We can now combine other variables by their indivdual WoE but also taking into account the n_obs each has and if they don't deviate by a lot for eg NM,VA,NY,OK,TN,MO,LA,MD,NC,CA - we can combine them together but we can check that NY and CA have considerably high no of obs so we cobine the first two and then NY and the next 6 and then CA and we can repeat the similar process"
   ]
  },
  {
   "cell_type": "code",
   "execution_count": 98,
   "metadata": {},
   "outputs": [],
   "source": [
    "df_features_train['addr_state_NM_VA'] = sum([df_features_train['addr_state_NM'], df_features_train['addr_state_VA']])\n",
    "\n",
    "df_features_train['addr_state_OK_TN_MO_LA_MD_NC'] = sum([df_features_train['addr_state_OK'], df_features_train['addr_state_TN'], df_features_train['addr_state_MO'],\n",
    "                                             df_features_train['addr_state_LA'], df_features_train['addr_state_MD'], df_features_train['addr_state_NC']])\n",
    "\n",
    "df_features_train['addr_state_UT_KY_AZ_NJ_MD_NC'] = sum([df_features_train['addr_state_UT'], df_features_train['addr_state_KY'], df_features_train['addr_state_AZ'],\n",
    "                                             df_features_train['addr_state_NJ'], df_features_train['addr_state_MD'], df_features_train['addr_state_NC']])\n",
    "\n",
    "df_features_train['addr_state_AR_MI_PA_OH_MN'] = sum([df_features_train['addr_state_AR'], df_features_train['addr_state_MI'], df_features_train['addr_state_PA'],\n",
    "                                             df_features_train['addr_state_OH'], df_features_train['addr_state_MN']])\n",
    "\n",
    "df_features_train['addr_state_RI_MA_DE_SD_IN'] = sum([df_features_train['addr_state_RI'], df_features_train['addr_state_MA'], df_features_train['addr_state_DE'],\n",
    "                                             df_features_train['addr_state_SD'], df_features_train['addr_state_IN']])\n",
    "\n",
    "df_features_train['addr_state_RI_MA_DE_SD_IN'] = sum([df_features_train['addr_state_RI'], df_features_train['addr_state_MA'], df_features_train['addr_state_DE'],\n",
    "                                             df_features_train['addr_state_SD'], df_features_train['addr_state_IN']])\n",
    "\n",
    "df_features_train['addr_state_GA_WA_OR'] = sum([df_features_train['addr_state_GA'], df_features_train['addr_state_WA'], df_features_train['addr_state_OR']])\n",
    "\n",
    "df_features_train['addr_state_WI_MT'] = sum([df_features_train['addr_state_WI'], df_features_train['addr_state_MT']])\n",
    "\n",
    "df_features_train['addr_state_IL_CT'] = sum([df_features_train['addr_state_IL'], df_features_train['addr_state_CT']])\n",
    "\n",
    "df_features_train['addr_state_KS_SC_CO_VT_AK_MS'] = sum([df_features_train['addr_state_KS'], df_features_train['addr_state_SC'], df_features_train['addr_state_CO'],\n",
    "                                             df_features_train['addr_state_VT'], df_features_train['addr_state_AK'], df_features_train['addr_state_MS']])"
   ]
  },
  {
   "cell_type": "code",
   "execution_count": 99,
   "metadata": {},
   "outputs": [],
   "source": [
    "# df_WoE = check_WoE_IV(df_features_train, df_targets_train, 'verification_status')\n",
    "# # plotByWoE(df_WoE)\n",
    "# df_features_train.filter(like='verification')\n",
    "# df_WoE = check_WoE_IV(df_features_train, df_targets_train, 'purpose')\n",
    "# df_WoE\n",
    "# plotByWoE(df_WoE, rotate_x=45)\n",
    "# df_features_train.filter(like='verification')"
   ]
  },
  {
   "cell_type": "code",
   "execution_count": 100,
   "metadata": {},
   "outputs": [],
   "source": [
    "df_features_train['purpose_worst'] = sum([df_features_train['purpose_small_business'], df_features_train['purpose_educational'], df_features_train['purpose_moving'],\n",
    "                                             df_features_train['purpose_house']])\n",
    "df_features_train['purpose_renewable_energy_medical_wedding_vacation'] = sum([df_features_train['purpose_renewable_energy'], df_features_train['purpose_medical'],\n",
    "                                                                              df_features_train['purpose_wedding'], df_features_train['purpose_vacation']])\n",
    "df_features_train['purpose_major_purchase_car'] = sum([df_features_train['purpose_major_purchase'], df_features_train['purpose_car']])"
   ]
  },
  {
   "cell_type": "code",
   "execution_count": 101,
   "metadata": {},
   "outputs": [],
   "source": [
    "# df_WoE = check_WoE_IV(df_features_train, df_targets_train, 'initial_list_status')\n",
    "# df_WoE\n",
    "# plotByWoE(df_WoE, rotate_x=45)"
   ]
  },
  {
   "cell_type": "markdown",
   "metadata": {},
   "source": [
    "Preprocessing continuous variables"
   ]
  },
  {
   "cell_type": "code",
   "execution_count": 102,
   "metadata": {},
   "outputs": [],
   "source": [
    "def check_WoE_IV_continuous(df, target, col):\n",
    "    df1 = pd.concat([df[col], target], axis=1)\n",
    "    df1 = pd.concat([df1.groupby(df1.columns.values[0])[df1.columns.values[1]].count().reset_index(),\n",
    "                    df1.groupby(df1.columns.values[0])[df1.columns.values[1]].mean().reset_index()], axis=1)\n",
    "    df1 = df1.iloc[:, [0,1,3]]\n",
    "    df1.columns = [df1.columns.values[0], 'n_obs', 'prop_good']\n",
    "    df1['prop_n_obs'] = df1['n_obs']/df1['n_obs'].sum()\n",
    "    df1['n_good'] = df1['n_obs']*df1['prop_good']\n",
    "    df1['n_bad'] = df1['n_obs']*(1-df1['prop_good'])\n",
    "    df1[f'prop_{col}_good'] = df1['n_good']/df1['n_good'].sum()\n",
    "    df1[f'prop_{col}_bad'] = df1['n_bad']/df1['n_bad'].sum()\n",
    "    df1['WoE'] = np.log(df1[f'prop_{col}_good']/df1[f'prop_{col}_bad'])\n",
    "    df1['IV'] = (df1[f'prop_{col}_good'] - df1[f'prop_{col}_bad'])*df1['WoE']\n",
    "    df1['IV'] = df1['IV'].sum()\n",
    "    df1['WoE_diff'] = df1['WoE'].diff().abs()\n",
    "    print(f\"IV for {col} is \", df1['IV'].iloc[0])\n",
    "    # df1.sort_values(by='WoE', inplace=True)\n",
    "    return df1\n",
    "\n",
    "# plotByWoE(df_WoE, rotate_x=45)\n"
   ]
  },
  {
   "cell_type": "code",
   "execution_count": 103,
   "metadata": {},
   "outputs": [],
   "source": [
    "# df_features_train['term'].unique()\n",
    "# df_WoE = check_WoE_IV_continuous(df_features_train, df_targets_train, 'term')\n",
    "# df_WoE\n",
    "# plotByWoE(df_WoE, rotate_x=45)"
   ]
  },
  {
   "cell_type": "code",
   "execution_count": 104,
   "metadata": {},
   "outputs": [],
   "source": [
    "df_features_train['term_36'] = np.where(df_features_train['term'] == 36, 1, 0)\n",
    "df_features_train['term_60'] = np.where(df_features_train['term'] == 60, 1, 0)"
   ]
  },
  {
   "cell_type": "code",
   "execution_count": 105,
   "metadata": {},
   "outputs": [],
   "source": [
    "# df_features_train['emp_length'].unique()\n",
    "# df_WoE = check_WoE_IV_continuous(df_features_train, df_targets_train, 'emp_length')\n",
    "# df_WoE\n",
    "# plotByWoE(df_WoE, rotate_x=45)\n"
   ]
  },
  {
   "cell_type": "code",
   "execution_count": 106,
   "metadata": {},
   "outputs": [],
   "source": [
    "# plotByWoE(df_WoE, rotate_x=45)\n",
    "# "
   ]
  },
  {
   "cell_type": "code",
   "execution_count": 107,
   "metadata": {},
   "outputs": [],
   "source": [
    "df_features_train['emp_length_0'] = np.where(df_features_train['emp_length'] == 0.0, 1, 0)\n",
    "df_features_train['emp_length_1'] = np.where(df_features_train['emp_length'] == 1.0, 1, 0)\n",
    "df_features_train['emp_length_2_3_4'] = np.where(df_features_train['emp_length'].isin([2.0, 3.0, 4.0]), 1, 0)\n",
    "df_features_train['emp_length_5_6'] = np.where(df_features_train['emp_length'].isin([5.0, 6.0]), 1, 0)\n",
    "df_features_train['emp_length_7_8_9'] = np.where(df_features_train['emp_length'].isin([7.0, 8.0, 9.0]), 1, 0)\n",
    "df_features_train['emp_length_10'] = np.where(df_features_train['emp_length'] == 10.0, 1, 0)\n"
   ]
  },
  {
   "cell_type": "code",
   "execution_count": 108,
   "metadata": {},
   "outputs": [],
   "source": [
    "# len(df_features_train['issue_d_weeks'].unique())"
   ]
  },
  {
   "cell_type": "code",
   "execution_count": 109,
   "metadata": {},
   "outputs": [],
   "source": [
    "# df_features_train['issue_d_weeks_categories'] = pd.cut(df_features_train['issue_d_weeks'], 50)\n",
    "# df_features_train['issue_d_weeks_categories']"
   ]
  },
  {
   "cell_type": "code",
   "execution_count": 110,
   "metadata": {},
   "outputs": [],
   "source": [
    "# df_woe = check_WoE_IV_continuous(df_features_train, df_targets_train, 'issue_d_weeks_categories')\n",
    "# df_woe"
   ]
  },
  {
   "cell_type": "code",
   "execution_count": 111,
   "metadata": {},
   "outputs": [],
   "source": [
    "# plotByWoE(df_woe, rotate_x= 90, figsize=(15,10))"
   ]
  },
  {
   "cell_type": "code",
   "execution_count": 112,
   "metadata": {},
   "outputs": [],
   "source": [
    "df_features_train['issue_d_weeks_156-165'] = np.where(df_features_train['issue_d_weeks'].isin(range(156,165)), 1,0)\n",
    "df_features_train['issue_d_weeks_165-173'] = np.where(df_features_train['issue_d_weeks'].isin(range(165,173)), 1,0)\n",
    "df_features_train['issue_d_weeks_173-180.5'] = np.where(df_features_train['issue_d_weeks'].isin(range(173,181)), 1,0)\n",
    "df_features_train['issue_d_weeks_181-211'] = np.where(df_features_train['issue_d_weeks'].isin(range(181,211)), 1,0) \n",
    "df_features_train['issue_d_weeks_211-235'] = np.where(df_features_train['issue_d_weeks'].isin(range(211,235)), 1,0) \n",
    "df_features_train['issue_d_weeks_235-391'] = np.where(df_features_train['issue_d_weeks'].isin(range(235,391)), 1,0) \n",
    "df_features_train['issue_d_weeks_>391'] = np.where(df_features_train['issue_d_weeks'].isin(range(391,580)), 1,0)"
   ]
  },
  {
   "cell_type": "code",
   "execution_count": 113,
   "metadata": {},
   "outputs": [],
   "source": [
    "# len(df_features_train['int_rate'].unique())\n",
    "# df_features_train['int_rate_categories'] = pd.cut(df_features_train['int_rate'], 10)"
   ]
  },
  {
   "cell_type": "code",
   "execution_count": 114,
   "metadata": {},
   "outputs": [],
   "source": [
    "# df_woe = check_WoE_IV_continuous(df_features_train, df_targets_train, 'int_rate_categories')\n",
    "# df_woe"
   ]
  },
  {
   "cell_type": "code",
   "execution_count": 115,
   "metadata": {},
   "outputs": [],
   "source": [
    "# plotByWoE(df_woe, rotate_x=90, figsize=(12,10))"
   ]
  },
  {
   "cell_type": "code",
   "execution_count": 116,
   "metadata": {},
   "outputs": [],
   "source": [
    "# int_bins = df_features_train['int_rate_categories'].cat.categories"
   ]
  },
  {
   "cell_type": "code",
   "execution_count": 117,
   "metadata": {},
   "outputs": [
    {
     "data": {
      "text/html": [
       "<div>\n",
       "<style scoped>\n",
       "    .dataframe tbody tr th:only-of-type {\n",
       "        vertical-align: middle;\n",
       "    }\n",
       "\n",
       "    .dataframe tbody tr th {\n",
       "        vertical-align: top;\n",
       "    }\n",
       "\n",
       "    .dataframe thead th {\n",
       "        text-align: right;\n",
       "    }\n",
       "</style>\n",
       "<table border=\"1\" class=\"dataframe\">\n",
       "  <thead>\n",
       "    <tr style=\"text-align: right;\">\n",
       "      <th></th>\n",
       "      <th>int_rate</th>\n",
       "      <th>int_rate_(5.399, 7.484]</th>\n",
       "      <th>int_rate_(7.484, 9.548]</th>\n",
       "      <th>int_rate_(9.548, 11.612]</th>\n",
       "      <th>int_rate_(11.612, 13.676]</th>\n",
       "      <th>int_rate_(13.676, 15.74]</th>\n",
       "      <th>int_rate_(15.74, 17.804]</th>\n",
       "      <th>int_rate_(17.804, 19.868]</th>\n",
       "      <th>int_rate_(19.868, 21.932]</th>\n",
       "      <th>int_rate_(21.932, 23.996]</th>\n",
       "      <th>int_rate_(23.996, 26.06]</th>\n",
       "    </tr>\n",
       "  </thead>\n",
       "  <tbody>\n",
       "    <tr>\n",
       "      <th>362514</th>\n",
       "      <td>14.99</td>\n",
       "      <td>0</td>\n",
       "      <td>0</td>\n",
       "      <td>0</td>\n",
       "      <td>0</td>\n",
       "      <td>1</td>\n",
       "      <td>0</td>\n",
       "      <td>0</td>\n",
       "      <td>0</td>\n",
       "      <td>0</td>\n",
       "      <td>0</td>\n",
       "    </tr>\n",
       "    <tr>\n",
       "      <th>288564</th>\n",
       "      <td>20.99</td>\n",
       "      <td>0</td>\n",
       "      <td>0</td>\n",
       "      <td>0</td>\n",
       "      <td>0</td>\n",
       "      <td>0</td>\n",
       "      <td>0</td>\n",
       "      <td>0</td>\n",
       "      <td>1</td>\n",
       "      <td>0</td>\n",
       "      <td>0</td>\n",
       "    </tr>\n",
       "    <tr>\n",
       "      <th>213591</th>\n",
       "      <td>14.65</td>\n",
       "      <td>0</td>\n",
       "      <td>0</td>\n",
       "      <td>0</td>\n",
       "      <td>0</td>\n",
       "      <td>1</td>\n",
       "      <td>0</td>\n",
       "      <td>0</td>\n",
       "      <td>0</td>\n",
       "      <td>0</td>\n",
       "      <td>0</td>\n",
       "    </tr>\n",
       "    <tr>\n",
       "      <th>263083</th>\n",
       "      <td>14.49</td>\n",
       "      <td>0</td>\n",
       "      <td>0</td>\n",
       "      <td>0</td>\n",
       "      <td>0</td>\n",
       "      <td>1</td>\n",
       "      <td>0</td>\n",
       "      <td>0</td>\n",
       "      <td>0</td>\n",
       "      <td>0</td>\n",
       "      <td>0</td>\n",
       "    </tr>\n",
       "    <tr>\n",
       "      <th>165001</th>\n",
       "      <td>8.90</td>\n",
       "      <td>0</td>\n",
       "      <td>1</td>\n",
       "      <td>0</td>\n",
       "      <td>0</td>\n",
       "      <td>0</td>\n",
       "      <td>0</td>\n",
       "      <td>0</td>\n",
       "      <td>0</td>\n",
       "      <td>0</td>\n",
       "      <td>0</td>\n",
       "    </tr>\n",
       "    <tr>\n",
       "      <th>...</th>\n",
       "      <td>...</td>\n",
       "      <td>...</td>\n",
       "      <td>...</td>\n",
       "      <td>...</td>\n",
       "      <td>...</td>\n",
       "      <td>...</td>\n",
       "      <td>...</td>\n",
       "      <td>...</td>\n",
       "      <td>...</td>\n",
       "      <td>...</td>\n",
       "      <td>...</td>\n",
       "    </tr>\n",
       "    <tr>\n",
       "      <th>115</th>\n",
       "      <td>11.71</td>\n",
       "      <td>0</td>\n",
       "      <td>0</td>\n",
       "      <td>0</td>\n",
       "      <td>1</td>\n",
       "      <td>0</td>\n",
       "      <td>0</td>\n",
       "      <td>0</td>\n",
       "      <td>0</td>\n",
       "      <td>0</td>\n",
       "      <td>0</td>\n",
       "    </tr>\n",
       "    <tr>\n",
       "      <th>296284</th>\n",
       "      <td>10.15</td>\n",
       "      <td>0</td>\n",
       "      <td>0</td>\n",
       "      <td>1</td>\n",
       "      <td>0</td>\n",
       "      <td>0</td>\n",
       "      <td>0</td>\n",
       "      <td>0</td>\n",
       "      <td>0</td>\n",
       "      <td>0</td>\n",
       "      <td>0</td>\n",
       "    </tr>\n",
       "    <tr>\n",
       "      <th>61777</th>\n",
       "      <td>8.90</td>\n",
       "      <td>0</td>\n",
       "      <td>1</td>\n",
       "      <td>0</td>\n",
       "      <td>0</td>\n",
       "      <td>0</td>\n",
       "      <td>0</td>\n",
       "      <td>0</td>\n",
       "      <td>0</td>\n",
       "      <td>0</td>\n",
       "      <td>0</td>\n",
       "    </tr>\n",
       "    <tr>\n",
       "      <th>91763</th>\n",
       "      <td>8.90</td>\n",
       "      <td>0</td>\n",
       "      <td>1</td>\n",
       "      <td>0</td>\n",
       "      <td>0</td>\n",
       "      <td>0</td>\n",
       "      <td>0</td>\n",
       "      <td>0</td>\n",
       "      <td>0</td>\n",
       "      <td>0</td>\n",
       "      <td>0</td>\n",
       "    </tr>\n",
       "    <tr>\n",
       "      <th>167512</th>\n",
       "      <td>7.62</td>\n",
       "      <td>0</td>\n",
       "      <td>1</td>\n",
       "      <td>0</td>\n",
       "      <td>0</td>\n",
       "      <td>0</td>\n",
       "      <td>0</td>\n",
       "      <td>0</td>\n",
       "      <td>0</td>\n",
       "      <td>0</td>\n",
       "      <td>0</td>\n",
       "    </tr>\n",
       "  </tbody>\n",
       "</table>\n",
       "<p>93257 rows × 11 columns</p>\n",
       "</div>"
      ],
      "text/plain": [
       "        int_rate  int_rate_(5.399, 7.484]  int_rate_(7.484, 9.548]  \\\n",
       "362514     14.99                        0                        0   \n",
       "288564     20.99                        0                        0   \n",
       "213591     14.65                        0                        0   \n",
       "263083     14.49                        0                        0   \n",
       "165001      8.90                        0                        1   \n",
       "...          ...                      ...                      ...   \n",
       "115        11.71                        0                        0   \n",
       "296284     10.15                        0                        0   \n",
       "61777       8.90                        0                        1   \n",
       "91763       8.90                        0                        1   \n",
       "167512      7.62                        0                        1   \n",
       "\n",
       "        int_rate_(9.548, 11.612]  int_rate_(11.612, 13.676]  \\\n",
       "362514                         0                          0   \n",
       "288564                         0                          0   \n",
       "213591                         0                          0   \n",
       "263083                         0                          0   \n",
       "165001                         0                          0   \n",
       "...                          ...                        ...   \n",
       "115                            0                          1   \n",
       "296284                         1                          0   \n",
       "61777                          0                          0   \n",
       "91763                          0                          0   \n",
       "167512                         0                          0   \n",
       "\n",
       "        int_rate_(13.676, 15.74]  int_rate_(15.74, 17.804]  \\\n",
       "362514                         1                         0   \n",
       "288564                         0                         0   \n",
       "213591                         1                         0   \n",
       "263083                         1                         0   \n",
       "165001                         0                         0   \n",
       "...                          ...                       ...   \n",
       "115                            0                         0   \n",
       "296284                         0                         0   \n",
       "61777                          0                         0   \n",
       "91763                          0                         0   \n",
       "167512                         0                         0   \n",
       "\n",
       "        int_rate_(17.804, 19.868]  int_rate_(19.868, 21.932]  \\\n",
       "362514                          0                          0   \n",
       "288564                          0                          1   \n",
       "213591                          0                          0   \n",
       "263083                          0                          0   \n",
       "165001                          0                          0   \n",
       "...                           ...                        ...   \n",
       "115                             0                          0   \n",
       "296284                          0                          0   \n",
       "61777                           0                          0   \n",
       "91763                           0                          0   \n",
       "167512                          0                          0   \n",
       "\n",
       "        int_rate_(21.932, 23.996]  int_rate_(23.996, 26.06]  \n",
       "362514                          0                         0  \n",
       "288564                          0                         0  \n",
       "213591                          0                         0  \n",
       "263083                          0                         0  \n",
       "165001                          0                         0  \n",
       "...                           ...                       ...  \n",
       "115                             0                         0  \n",
       "296284                          0                         0  \n",
       "61777                           0                         0  \n",
       "91763                           0                         0  \n",
       "167512                          0                         0  \n",
       "\n",
       "[93257 rows x 11 columns]"
      ]
     },
     "execution_count": 117,
     "metadata": {},
     "output_type": "execute_result"
    }
   ],
   "source": [
    "for i in range(len(int_bins)):\n",
    "    col_name = f'int_rate_{int_bins[i]}'\n",
    "    df_features_train[col_name] = np.where((df_features_train['int_rate'] > int_bins[i].left) & (df_features_train['int_rate'] <= int_bins[i].right), 1, 0)\n",
    "\n",
    "df_features_train.filter(like='int_rate')"
   ]
  },
  {
   "cell_type": "code",
   "execution_count": 118,
   "metadata": {},
   "outputs": [],
   "source": [
    "# df_features_train['funded_amnt_categories'] = pd.cut(df_features_train['funded_amnt'], 20)"
   ]
  },
  {
   "cell_type": "code",
   "execution_count": 119,
   "metadata": {},
   "outputs": [],
   "source": [
    "# df_woe = check_WoE_IV_continuous(df_features_train, df_targets_train, 'funded_amnt_categories')\n",
    "# df_woe"
   ]
  },
  {
   "cell_type": "code",
   "execution_count": 120,
   "metadata": {},
   "outputs": [],
   "source": [
    "# plotByWoE(df_woe, rotate_x=90)"
   ]
  },
  {
   "cell_type": "markdown",
   "metadata": {},
   "source": [
    "We can see no clear pattern between DV and IDV i.e funded amount, so we don't need to include this factor in the model"
   ]
  },
  {
   "cell_type": "code",
   "execution_count": 121,
   "metadata": {},
   "outputs": [],
   "source": [
    "# df_features_train['earliest_cr_line_weeks_categories'] = pd.cut(df_features_train['earliest_cr_line_weeks'], 10)"
   ]
  },
  {
   "cell_type": "code",
   "execution_count": 122,
   "metadata": {},
   "outputs": [],
   "source": [
    "# df_woe = check_WoE_IV_continuous(df_features_train, df_targets_train, 'earliest_cr_line_weeks_categories')\n",
    "# df_woe"
   ]
  },
  {
   "cell_type": "code",
   "execution_count": 123,
   "metadata": {},
   "outputs": [],
   "source": [
    "# plotByWoE(df_woe)"
   ]
  },
  {
   "cell_type": "code",
   "execution_count": 124,
   "metadata": {},
   "outputs": [],
   "source": [
    "# cr_line_bins = df_features_train['earliest_cr_line_weeks_categories'].cat.categories"
   ]
  },
  {
   "cell_type": "code",
   "execution_count": 125,
   "metadata": {},
   "outputs": [],
   "source": [
    "\n",
    "for i in range(len(cr_line_bins)):\n",
    "    col_name = f'earliest_cr_line_weeks_{cr_line_bins[i]}'\n",
    "    df_features_train[col_name] = np.where((df_features_train['earliest_cr_line_weeks'] > cr_line_bins[i].left) \n",
    "                            & (df_features_train['earliest_cr_line_weeks'] <= cr_line_bins[i].right), 1, 0)"
   ]
  },
  {
   "cell_type": "code",
   "execution_count": 126,
   "metadata": {},
   "outputs": [],
   "source": [
    "# df_features_train['installment'].unique()"
   ]
  },
  {
   "cell_type": "code",
   "execution_count": 127,
   "metadata": {},
   "outputs": [],
   "source": [
    "# df_features_train['installment_categories'] = pd.cut(df_features_train['installment'], 10)"
   ]
  },
  {
   "cell_type": "code",
   "execution_count": 128,
   "metadata": {},
   "outputs": [],
   "source": [
    "# df_woe = check_WoE_IV_continuous(df_features_train, df_targets_train, 'installment_categories')\n",
    "# df_woe"
   ]
  },
  {
   "cell_type": "code",
   "execution_count": 129,
   "metadata": {},
   "outputs": [],
   "source": [
    "# plotByWoE(df_woe)"
   ]
  },
  {
   "cell_type": "markdown",
   "metadata": {},
   "source": [
    "Lets discard installment, no pattern, IV close to 0"
   ]
  },
  {
   "cell_type": "code",
   "execution_count": 130,
   "metadata": {},
   "outputs": [],
   "source": [
    "# df_features_train['delinq_2yrs_cats'] = pd.cut(df_features_train['delinq_2yrs'], 100)\n",
    "# df_woe = check_WoE_IV_continuous(df_features_train, df_targets_train, 'delinq_2yrs_cats')\n",
    "# df_woe"
   ]
  },
  {
   "cell_type": "code",
   "execution_count": 131,
   "metadata": {},
   "outputs": [],
   "source": [
    "# plotByWoE(df_woe)"
   ]
  },
  {
   "cell_type": "code",
   "execution_count": 132,
   "metadata": {},
   "outputs": [],
   "source": [
    "# df_features_train['delinq_2yrs_<2'] = np.where(df_features_train['delinq_2yrs'] < 2, 1, 0)\n",
    "# df_features_train['delinq_2yrs_>2'] = np.where(df_features_train['delinq_2yrs'] >= 2, 1, 0)"
   ]
  },
  {
   "cell_type": "code",
   "execution_count": 133,
   "metadata": {},
   "outputs": [],
   "source": [
    "# df_features_train['inq_last_6mths_cats'] = pd.cut(df_features_train['inq_last_6mths'], 50)\n",
    "# df_woe = check_WoE_IV_continuous(df_features_train, df_targets_train, 'inq_last_6mths_cats')\n",
    "# df_woe"
   ]
  },
  {
   "cell_type": "code",
   "execution_count": 134,
   "metadata": {},
   "outputs": [],
   "source": [
    "# plotByWoE(df_woe)"
   ]
  },
  {
   "cell_type": "code",
   "execution_count": 135,
   "metadata": {},
   "outputs": [],
   "source": [
    "df_features_train['inq_last_6mths_<1'] = np.where(df_features_train['inq_last_6mths'] < 1, 1, 0)\n",
    "df_features_train['inq_last_6mths_1-2'] = np.where((df_features_train['inq_last_6mths'] >= 1) & (df_features_train['inq_last_6mths'] < 2), 1, 0)\n",
    "df_features_train['inq_last_6mths_2-3'] = np.where((df_features_train['inq_last_6mths'] >= 2) & (df_features_train['inq_last_6mths'] < 3), 1, 0)\n",
    "df_features_train['inq_last_6mths_>3'] = np.where(df_features_train['inq_last_6mths'] > 3, 1, 0)\n"
   ]
  },
  {
   "cell_type": "code",
   "execution_count": 136,
   "metadata": {},
   "outputs": [],
   "source": [
    "# df_features_train['open_acc'].value_counts()"
   ]
  },
  {
   "cell_type": "code",
   "execution_count": 137,
   "metadata": {},
   "outputs": [],
   "source": [
    "# df_features_train['open_acc_cats'] = pd.cut(df_features_train['open_acc'], 40)\n",
    "# df_woe = check_WoE_IV_continuous(df_features_train, df_targets_train, 'open_acc_cats')\n",
    "# pd.set_option('display.max_rows', None)\n",
    "# df_woe.iloc[:-30,:]"
   ]
  },
  {
   "cell_type": "code",
   "execution_count": 138,
   "metadata": {},
   "outputs": [],
   "source": [
    "df_features_train['open_acc_<4'] = np.where(df_features_train['open_acc'] < 4, 1, 0)\n",
    "df_features_train['open_acc_4-10'] = np.where(df_features_train['open_acc'].isin(range(4,11)), 1, 0)\n",
    "df_features_train['open_acc_11-13'] = np.where(df_features_train['open_acc'].isin(range(11,14)), 1, 0)\n",
    "df_features_train['open_acc_14-21'] = np.where(df_features_train['open_acc'].isin(range(14,21)), 1, 0)\n",
    "df_features_train['open_acc_>21'] = np.where(df_features_train['open_acc'] >= 21, 1, 0)\n"
   ]
  },
  {
   "cell_type": "code",
   "execution_count": 139,
   "metadata": {},
   "outputs": [],
   "source": [
    "# df_features_train['total_acc_cats'] = pd.cut(df_features_train['total_acc'], 50)\n",
    "# df_woe = check_WoE_IV_continuous(df_features_train, df_targets_train, 'total_acc_cats')\n",
    "# df_woe.iloc[:-39,:]"
   ]
  },
  {
   "cell_type": "code",
   "execution_count": 140,
   "metadata": {},
   "outputs": [],
   "source": [
    "# plotByWoE(df_woe)\n",
    "df_features_train['total_acc_<9'] = np.where(df_features_train['total_acc'] < 30, 1, 0)\n",
    "df_features_train['total_acc_9-15'] = np.where(df_features_train['total_acc'].isin(range(9,15)), 1, 0)\n",
    "df_features_train['total_acc_15-21'] = np.where(df_features_train['total_acc'].isin(range(15,21)), 1, 0)\n",
    "df_features_train['total_acc_21-24'] = np.where(df_features_train['total_acc'].isin(range(21,24)), 1, 0)\n",
    "df_features_train['total_acc_24-33'] = np.where(df_features_train['total_acc'].isin(range(24,33)), 1, 0)\n",
    "df_features_train['total_acc_>33'] = np.where(df_features_train['total_acc'] > 33, 1, 0)\n"
   ]
  },
  {
   "cell_type": "code",
   "execution_count": 141,
   "metadata": {},
   "outputs": [],
   "source": [
    "# df_features_train['acc_now_delinq_cats'] = pd.cut(df_features_train['acc_now_delinq'], 5)\n",
    "# df_woe = check_WoE_IV_continuous(df_features_train, df_targets_train, 'acc_now_delinq_cats')\n",
    "# df_woe"
   ]
  },
  {
   "cell_type": "code",
   "execution_count": 142,
   "metadata": {},
   "outputs": [],
   "source": [
    "# plotByWoE(df_woe)"
   ]
  },
  {
   "cell_type": "markdown",
   "metadata": {},
   "source": [
    "this is also irrelevant"
   ]
  },
  {
   "cell_type": "code",
   "execution_count": 143,
   "metadata": {},
   "outputs": [],
   "source": [
    "# df_features_train['annual_inc_cats'] = pd.cut(df_features_train['annual_inc'], 200)\n",
    "# df_woe = check_WoE_IV_continuous(df_features_train, df_targets_train, 'annual_inc_cats')\n",
    "# df_woe"
   ]
  },
  {
   "cell_type": "code",
   "execution_count": 144,
   "metadata": {},
   "outputs": [],
   "source": [
    "df_features_train['annual_inc_large_income'] = np.where(df_features_train['annual_inc'] > 145000,1,0)\n",
    "df_features_train['annual_inc_<38K'] = np.where(df_features_train['annual_inc'] <= 38000,1,0)\n",
    "df_features_train['annual_inc_38K-73.2K'] = np.where(df_features_train['annual_inc'].isin(range(38000,73300)),1,0)\n",
    "df_features_train['annual_inc_73.2K-109K'] = np.where(df_features_train['annual_inc'].isin(range(73300,109000)),1,0)\n",
    "df_features_train['annual_inc_109K-144K'] = np.where(df_features_train['annual_inc'].isin(range(109000,144000)),1,0)"
   ]
  },
  {
   "cell_type": "code",
   "execution_count": 145,
   "metadata": {},
   "outputs": [],
   "source": [
    "# delin_data = df_features_train[~(pd.isnull(df_features_train['mths_since_last_delinq']))]"
   ]
  },
  {
   "cell_type": "code",
   "execution_count": 146,
   "metadata": {},
   "outputs": [],
   "source": [
    "# delin_data['mths_since_last_delinq_cats'] = pd.cut(delin_data['mths_since_last_delinq'], 40)\n",
    "# df_woe = check_WoE_IV_continuous(delin_data, df_targets_train, 'mths_since_last_delinq_cats')\n",
    "# df_woe\n"
   ]
  },
  {
   "cell_type": "code",
   "execution_count": 147,
   "metadata": {},
   "outputs": [],
   "source": [
    "# plotByWoE(df_woe.iloc[:-24,:],rotate_x=90)\n",
    "# df_features_train['mths_since_last_delinq'].unique()"
   ]
  },
  {
   "cell_type": "code",
   "execution_count": 148,
   "metadata": {},
   "outputs": [],
   "source": [
    "# df_features_train['mths_since_last_delinq_cats_>80'] = np.where(df_features_train['mths_since_last_delinq'] > 80,1,0)\n",
    "# df_features_train['mths_since_last_delinq_<5'] = np.where(df_features_train['mths_since_last_delinq'] < 5,1,0)\n",
    "# df_features_train['mths_since_last_delinq_5-23'] = np.where(df_features_train['mths_since_last_delinq'].isin(range(5,24)),1,0)\n",
    "# df_features_train['mths_since_last_delinq_24-56'] = np.where(df_features_train['mths_since_last_delinq'].isin(range(24,57)),1,0)\n",
    "# df_features_train['mths_since_last_delinq_>57'] = np.where(df_features_train['mths_since_last_delinq'].isin(range(57,100)),1,0)\n"
   ]
  },
  {
   "cell_type": "code",
   "execution_count": 149,
   "metadata": {},
   "outputs": [],
   "source": [
    "# df_features_train['dti_cats'] = pd.cut(df_features_train['dti'], 20)\n",
    "# df_woe = check_WoE_IV_continuous(df_features_train, df_targets_train, 'dti_cats')\n",
    "# df_woe\n"
   ]
  },
  {
   "cell_type": "code",
   "execution_count": 150,
   "metadata": {},
   "outputs": [],
   "source": [
    "# plotByWoE(df_woe, rotate_x=90)"
   ]
  },
  {
   "cell_type": "code",
   "execution_count": 151,
   "metadata": {},
   "outputs": [],
   "source": [
    "# dti_bins = df_features_train['dti_cats'].cat.categories"
   ]
  },
  {
   "cell_type": "code",
   "execution_count": 152,
   "metadata": {},
   "outputs": [
    {
     "name": "stderr",
     "output_type": "stream",
     "text": [
      "/var/folders/pg/z91v_pc17db_f4_zcy_19j0h0000gp/T/ipykernel_40599/2632091483.py:3: PerformanceWarning: DataFrame is highly fragmented.  This is usually the result of calling `frame.insert` many times, which has poor performance.  Consider joining all columns at once using pd.concat(axis=1) instead. To get a de-fragmented frame, use `newframe = frame.copy()`\n",
      "  df_features_train[col_name] = np.where((df_features_train['dti'] > dti_bins[i].left) &\n",
      "/var/folders/pg/z91v_pc17db_f4_zcy_19j0h0000gp/T/ipykernel_40599/2632091483.py:3: PerformanceWarning: DataFrame is highly fragmented.  This is usually the result of calling `frame.insert` many times, which has poor performance.  Consider joining all columns at once using pd.concat(axis=1) instead. To get a de-fragmented frame, use `newframe = frame.copy()`\n",
      "  df_features_train[col_name] = np.where((df_features_train['dti'] > dti_bins[i].left) &\n",
      "/var/folders/pg/z91v_pc17db_f4_zcy_19j0h0000gp/T/ipykernel_40599/2632091483.py:3: PerformanceWarning: DataFrame is highly fragmented.  This is usually the result of calling `frame.insert` many times, which has poor performance.  Consider joining all columns at once using pd.concat(axis=1) instead. To get a de-fragmented frame, use `newframe = frame.copy()`\n",
      "  df_features_train[col_name] = np.where((df_features_train['dti'] > dti_bins[i].left) &\n",
      "/var/folders/pg/z91v_pc17db_f4_zcy_19j0h0000gp/T/ipykernel_40599/2632091483.py:3: PerformanceWarning: DataFrame is highly fragmented.  This is usually the result of calling `frame.insert` many times, which has poor performance.  Consider joining all columns at once using pd.concat(axis=1) instead. To get a de-fragmented frame, use `newframe = frame.copy()`\n",
      "  df_features_train[col_name] = np.where((df_features_train['dti'] > dti_bins[i].left) &\n",
      "/var/folders/pg/z91v_pc17db_f4_zcy_19j0h0000gp/T/ipykernel_40599/2632091483.py:3: PerformanceWarning: DataFrame is highly fragmented.  This is usually the result of calling `frame.insert` many times, which has poor performance.  Consider joining all columns at once using pd.concat(axis=1) instead. To get a de-fragmented frame, use `newframe = frame.copy()`\n",
      "  df_features_train[col_name] = np.where((df_features_train['dti'] > dti_bins[i].left) &\n",
      "/var/folders/pg/z91v_pc17db_f4_zcy_19j0h0000gp/T/ipykernel_40599/2632091483.py:3: PerformanceWarning: DataFrame is highly fragmented.  This is usually the result of calling `frame.insert` many times, which has poor performance.  Consider joining all columns at once using pd.concat(axis=1) instead. To get a de-fragmented frame, use `newframe = frame.copy()`\n",
      "  df_features_train[col_name] = np.where((df_features_train['dti'] > dti_bins[i].left) &\n",
      "/var/folders/pg/z91v_pc17db_f4_zcy_19j0h0000gp/T/ipykernel_40599/2632091483.py:3: PerformanceWarning: DataFrame is highly fragmented.  This is usually the result of calling `frame.insert` many times, which has poor performance.  Consider joining all columns at once using pd.concat(axis=1) instead. To get a de-fragmented frame, use `newframe = frame.copy()`\n",
      "  df_features_train[col_name] = np.where((df_features_train['dti'] > dti_bins[i].left) &\n",
      "/var/folders/pg/z91v_pc17db_f4_zcy_19j0h0000gp/T/ipykernel_40599/2632091483.py:3: PerformanceWarning: DataFrame is highly fragmented.  This is usually the result of calling `frame.insert` many times, which has poor performance.  Consider joining all columns at once using pd.concat(axis=1) instead. To get a de-fragmented frame, use `newframe = frame.copy()`\n",
      "  df_features_train[col_name] = np.where((df_features_train['dti'] > dti_bins[i].left) &\n",
      "/var/folders/pg/z91v_pc17db_f4_zcy_19j0h0000gp/T/ipykernel_40599/2632091483.py:3: PerformanceWarning: DataFrame is highly fragmented.  This is usually the result of calling `frame.insert` many times, which has poor performance.  Consider joining all columns at once using pd.concat(axis=1) instead. To get a de-fragmented frame, use `newframe = frame.copy()`\n",
      "  df_features_train[col_name] = np.where((df_features_train['dti'] > dti_bins[i].left) &\n",
      "/var/folders/pg/z91v_pc17db_f4_zcy_19j0h0000gp/T/ipykernel_40599/2632091483.py:3: PerformanceWarning: DataFrame is highly fragmented.  This is usually the result of calling `frame.insert` many times, which has poor performance.  Consider joining all columns at once using pd.concat(axis=1) instead. To get a de-fragmented frame, use `newframe = frame.copy()`\n",
      "  df_features_train[col_name] = np.where((df_features_train['dti'] > dti_bins[i].left) &\n"
     ]
    }
   ],
   "source": [
    "\n",
    "for i in range(len(dti_bins)):\n",
    "    col_name = f\"dti_{dti_bins[i]}\"\n",
    "    df_features_train[col_name] = np.where((df_features_train['dti'] > dti_bins[i].left) & \n",
    "                                           (df_features_train['dti'] <= dti_bins[i].right), 1, 0)\n"
   ]
  },
  {
   "cell_type": "code",
   "execution_count": 153,
   "metadata": {},
   "outputs": [],
   "source": [
    "# df_features_train['mths_since_last_record_cats'] = pd.cut(df_features_train['mths_since_last_record'], 10)\n",
    "# df_woe = check_WoE_IV_continuous(df_features_train, df_targets_train, 'mths_since_last_record_cats')\n",
    "# df_woe"
   ]
  },
  {
   "cell_type": "code",
   "execution_count": 154,
   "metadata": {},
   "outputs": [],
   "source": [
    "# plotByWoE(df_woe)"
   ]
  },
  {
   "cell_type": "code",
   "execution_count": 155,
   "metadata": {},
   "outputs": [],
   "source": [
    "# bins = df_features_train['mths_since_last_record_cats'].cat.categories\n",
    "# for i in range(len(bins)):\n",
    "#     col_name = f\"mths_since_last_record_{bins[i]}\"\n",
    "#     df_features_train[col_name] = np.where((df_features_train['mths_since_last_record'] > bins[i].left) & \n",
    "#                                            (df_features_train['mths_since_last_record'] <= bins[i].right), 1, 0)"
   ]
  },
  {
   "cell_type": "markdown",
   "metadata": {},
   "source": [
    "Preparation/Precprocessing of test Dataset"
   ]
  },
  {
   "cell_type": "code",
   "execution_count": 156,
   "metadata": {},
   "outputs": [],
   "source": [
    "# X_train = df_features_train\n",
    "X_test = df_features_train\n",
    "# df_features_train, df_targets_train = X_test, y_test"
   ]
  },
  {
   "cell_type": "code",
   "execution_count": 157,
   "metadata": {},
   "outputs": [],
   "source": [
    "# pd.set_option('display.max_rows', 10)\n",
    "# X_train"
   ]
  },
  {
   "cell_type": "code",
   "execution_count": 159,
   "metadata": {},
   "outputs": [],
   "source": [
    "X_train.to_csv(\"loan_data_train.csv\")\n",
    "X_test.to_csv(\"loan_data_test.csv\")\n",
    "y_train.to_csv(\"loan_data_label_train.csv\")\n",
    "y_test.to_csv(\"loan_data_label_test.csv\")"
   ]
  },
  {
   "cell_type": "code",
   "execution_count": null,
   "metadata": {},
   "outputs": [],
   "source": []
  }
 ],
 "metadata": {
  "kernelspec": {
   "display_name": "testEnvironment",
   "language": "python",
   "name": "python3"
  },
  "language_info": {
   "codemirror_mode": {
    "name": "ipython",
    "version": 3
   },
   "file_extension": ".py",
   "mimetype": "text/x-python",
   "name": "python",
   "nbconvert_exporter": "python",
   "pygments_lexer": "ipython3",
   "version": "3.12.2"
  }
 },
 "nbformat": 4,
 "nbformat_minor": 2
}
